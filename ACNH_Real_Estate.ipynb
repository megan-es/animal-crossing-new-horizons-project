{
 "cells": [
  {
   "cell_type": "code",
   "execution_count": 116,
   "metadata": {},
   "outputs": [],
   "source": [
    "# imports\n",
    "import os\n",
    "import pandas as pd\n",
    "from zipfile import ZipFile\n",
    "import matplotlib.pyplot as plt\n",
    "import seaborn as sns"
   ]
  },
  {
   "cell_type": "code",
   "execution_count": 90,
   "metadata": {},
   "outputs": [],
   "source": [
    "# Define the path to items folder\n",
    "items_folder_path = '/Users/MeganWagnerSmith/Desktop/Animal_Crossing_Project/animal-crossing-new-horizons-nookplaza-dataset/'\n",
    "\n",
    "# List all item files\n",
    "item_files = [f for f in os.listdir(items_folder_path) if f.endswith('.csv') and f != 'villagers.csv']\n"
   ]
  },
  {
   "cell_type": "code",
   "execution_count": 65,
   "metadata": {},
   "outputs": [],
   "source": [
    "# Initialize DataFrame to hold all item data\n",
    "all_items_df = pd.DataFrame()\n",
    "\n",
    "# Load each item file and concatenate it to the all_items_df\n",
    "for file_name in item_files:\n",
    "    file_path = os.path.join(items_folder_path, file_name)\n",
    "    temp_df = pd.read_csv(file_path)"
   ]
  },
  {
   "cell_type": "code",
   "execution_count": 73,
   "metadata": {},
   "outputs": [
    {
     "name": "stdout",
     "output_type": "stream",
     "text": [
      "   Internal ID                    Name       Buy     Sell\n",
      "0       3948.0       accessories stand    1500.0    375.0\n",
      "5      12579.0    ACNH Nintendo Switch   35960.0   8990.0\n",
      "6       7080.0  agrias butterfly model       NaN   9000.0\n",
      "7       7453.0      aluminum briefcase  100000.0  25000.0\n",
      "9        849.0                     amp    5100.0   1275.0\n",
      "Empty DataFrame\n",
      "Columns: [Internal ID, Name, Buy, Sell]\n",
      "Index: []\n"
     ]
    },
    {
     "name": "stderr",
     "output_type": "stream",
     "text": [
      "/var/folders/n9/nhw5lfp14pz9_5f7p9093sd80000gn/T/ipykernel_70791/4248335616.py:31: FutureWarning: The behavior of DataFrame concatenation with empty or all-NA entries is deprecated. In a future version, this will no longer exclude empty or all-NA columns when determining the result dtypes. To retain the old behavior, exclude the relevant entries before the concat operation.\n",
      "  all_items_df = pd.concat([all_items_df, temp_df])\n",
      "/var/folders/n9/nhw5lfp14pz9_5f7p9093sd80000gn/T/ipykernel_70791/4248335616.py:31: FutureWarning: The behavior of DataFrame concatenation with empty or all-NA entries is deprecated. In a future version, this will no longer exclude empty or all-NA columns when determining the result dtypes. To retain the old behavior, exclude the relevant entries before the concat operation.\n",
      "  all_items_df = pd.concat([all_items_df, temp_df])\n",
      "/var/folders/n9/nhw5lfp14pz9_5f7p9093sd80000gn/T/ipykernel_70791/4248335616.py:31: FutureWarning: The behavior of DataFrame concatenation with empty or all-NA entries is deprecated. In a future version, this will no longer exclude empty or all-NA columns when determining the result dtypes. To retain the old behavior, exclude the relevant entries before the concat operation.\n",
      "  all_items_df = pd.concat([all_items_df, temp_df])\n",
      "/var/folders/n9/nhw5lfp14pz9_5f7p9093sd80000gn/T/ipykernel_70791/4248335616.py:31: FutureWarning: The behavior of DataFrame concatenation with empty or all-NA entries is deprecated. In a future version, this will no longer exclude empty or all-NA columns when determining the result dtypes. To retain the old behavior, exclude the relevant entries before the concat operation.\n",
      "  all_items_df = pd.concat([all_items_df, temp_df])\n"
     ]
    }
   ],
   "source": [
    "# Create DataFrame to store all item data \n",
    "# Initialize DataFrame\n",
    "all_items_df = pd.DataFrame()\n",
    "\n",
    "for file_name in item_files:\n",
    "    file_path = os.path.join(items_folder_path, file_name)\n",
    "    temp_df = pd.read_csv(file_path)\n",
    "\n",
    "    # Check if 'Buy' column exists in the DataFrame\n",
    "    if 'Buy' in temp_df.columns:\n",
    "        temp_df['Buy'].replace('NFS', pd.NA, inplace=True)\n",
    "        temp_df['Buy'] = pd.to_numeric(temp_df['Buy'], errors='coerce')\n",
    "    else:\n",
    "        # Assign NaN if 'Buy' column does not exist\n",
    "        temp_df['Buy'] = pd.NA\n",
    "\n",
    "    # Check if 'Sell' column exists\n",
    "    if 'Sell' in temp_df.columns:\n",
    "        temp_df['Sell'].replace('NFS', pd.NA, inplace=True)\n",
    "        temp_df['Sell'] = pd.to_numeric(temp_df['Sell'], errors='coerce')\n",
    "    else:\n",
    "        # Assign NaN if 'Sell' column does not exist\n",
    "        temp_df['Sell'] = pd.NA\n",
    "    # Select only necessary columns\n",
    "    if 'Internal ID' in temp_df.columns:\n",
    "        columns_to_select = ['Internal ID', 'Name', 'Buy', 'Sell']\n",
    "        temp_df = temp_df[columns_to_select]\n",
    "        temp_df = temp_df[columns_to_select]\n",
    "    else:\n",
    "        # If 'Internal ID' column does not exist, you may choose to skip the file or handle it differently\n",
    "        continue  # Skip this file\n",
    "    all_items_df = pd.concat([all_items_df, temp_df])\n",
    "\n",
    "# Remove duplicates based on the 'Name' column\n",
    "all_items_df.drop_duplicates(subset=['Internal ID'], inplace=True)\n",
    "\n",
    "# Display the first few rows of the combined items DataFrame\n",
    "print(all_items_df.head())\n",
    "\n",
    "# Check for duplicates\n",
    "duplicates = all_items_df[all_items_df.duplicated(subset=['Internal ID', 'Name'], keep=False)]\n",
    "print(duplicates)"
   ]
  },
  {
   "cell_type": "code",
   "execution_count": 68,
   "metadata": {},
   "outputs": [
    {
     "name": "stdout",
     "output_type": "stream",
     "text": [
      "Total number of NaN values in 'Internal ID': 0\n",
      "   Internal ID                    Name       Buy     Sell\n",
      "0         3948       accessories stand    1500.0    375.0\n",
      "5        12579    ACNH Nintendo Switch   35960.0   8990.0\n",
      "6         7080  agrias butterfly model       NaN   9000.0\n",
      "7         7453      aluminum briefcase  100000.0  25000.0\n",
      "9          849                     amp    5100.0   1275.0\n"
     ]
    }
   ],
   "source": [
    "# Count the total number of NaN values in the 'Internal ID' column\n",
    "nan_count_internal_id = all_items_df['Internal ID'].isna().sum()\n",
    "print(\"Total number of NaN values in 'Internal ID':\", nan_count_internal_id)\n",
    "\n",
    "# Drop NaN values\n",
    "if nan_count_internal_id > 0:\n",
    "    all_items_df.dropna(subset=['Internal ID'], inplace=True)\n",
    "\n",
    "# Convert 'Internal ID' to integers\n",
    "all_items_df['Internal ID'] = all_items_df['Internal ID'].astype(int)\n",
    "\n",
    "# Display the first few rows to check the format\n",
    "print(all_items_df.head())"
   ]
  },
  {
   "cell_type": "code",
   "execution_count": 94,
   "metadata": {},
   "outputs": [
    {
     "name": "stdout",
     "output_type": "stream",
     "text": [
      "      Name  Total Decor Buy Value  Total Decor Sell Value\n",
      "0  Admiral                18170.0                 11142.0\n",
      "1  Agent S               102440.0                 28010.0\n",
      "2    Agnes                58500.0                 20973.0\n",
      "3       Al                29520.0                 14879.0\n",
      "4  Alfonso                35200.0                 15010.0\n"
     ]
    }
   ],
   "source": [
    "# Load villagers Dataframe\n",
    "villagers = pd.read_csv(os.path.join(items_folder_path, 'villagers.csv'))\n",
    "\n",
    "def calculate_home_value(row, items_df):\n",
    "    # Split the item IDs from furniture list, convert to integers\n",
    "    furniture_ids = [int(x) for x in row['Furniture List'].split(';')] if pd.notna(row['Furniture List']) else []\n",
    "    # Filter the all_items_df for the given IDs\n",
    "    furniture_items = items_df[items_df['Internal ID'].isin(furniture_ids)]\n",
    "    \n",
    "    # Use name to filter items_df for wallpaper and flooring\n",
    "    item_names = [row['Wallpaper'], row['Flooring']]\n",
    "    wallpaper_flooring_items = items_df[items_df['Name'].isin(item_names)]\n",
    "    \n",
    "    # Combine furniture and wallpaper/flooring items\n",
    "    house_items = pd.concat([furniture_items, wallpaper_flooring_items])\n",
    "    \n",
    "    # Calculate total buy and sell values of home decor\n",
    "    total_decor_buy_value = house_items['Buy'].sum()\n",
    "    total_decor_sell_value = house_items['Sell'].sum()\n",
    "    \n",
    "    return total_decor_buy_value, total_decor_sell_value\n",
    "\n",
    "# Apply the function to each villager/row in the villagers dataset\n",
    "villagers[['Total Decor Buy Value', 'Total Decor Sell Value']] = villagers.apply(lambda row: calculate_home_value(row, all_items_df), axis=1, result_type='expand')\n",
    "\n",
    "# Reorder columns\n",
    "\n",
    "# Display the DataFrame with the calculated values\n",
    "print(villagers[['Name', 'Total Decor Buy Value', 'Total Decor Sell Value']].head())\n",
    "villagers.to_csv('villagers_complete.csv')"
   ]
  },
  {
   "cell_type": "code",
   "execution_count": 101,
   "metadata": {},
   "outputs": [
    {
     "data": {
      "text/plain": [
       "(105496.62, 42882.28)"
      ]
     },
     "execution_count": 101,
     "metadata": {},
     "output_type": "execute_result"
    }
   ],
   "source": [
    "# Calculate average cost to buy home decor, and average resale value\n",
    "average_buy_value = round(villagers['Total Decor Buy Value'].mean(), 2)\n",
    "average_sell_value = round(villagers['Total Decor Sell Value'].mean(), 2)\n",
    "\n",
    "average_buy_value, average_sell_value"
   ]
  },
  {
   "cell_type": "code",
   "execution_count": 103,
   "metadata": {},
   "outputs": [
    {
     "data": {
      "text/plain": [
       "59.35"
      ]
     },
     "execution_count": 103,
     "metadata": {},
     "output_type": "execute_result"
    }
   ],
   "source": [
    "# Calculate the average depreciation rate of home value from purchase cost to selling value\n",
    "average_depreciation = round(((villagers['Total Decor Buy Value'].mean() - villagers['Total Decor Sell Value'].mean()) / villagers['Total Decor Buy Value'].mean()) * 100, 2)\n",
    "\n",
    "average_depreciation"
   ]
  },
  {
   "cell_type": "code",
   "execution_count": 108,
   "metadata": {},
   "outputs": [],
   "source": [
    "# Sugarshine specific data \n",
    "\n",
    "# Load Sugarshine villagers dataset\n",
    "sugarshine_villagers_df = pd.read_csv('sugarshine_villagers.csv')\n",
    "\n",
    "# Filter the complete villagers dataset to only show sugarshine villagers, save csv of completed sugarshine dataset\n",
    "filtered_villagers_df = villagers[villagers['Name'].isin(sugarshine_villagers_df['Name'])]\n",
    "\n",
    "filtered_villagers_df.to_csv('sugarshine_villagers_complete.csv')\n"
   ]
  },
  {
   "cell_type": "code",
   "execution_count": 124,
   "metadata": {},
   "outputs": [
    {
     "name": "stderr",
     "output_type": "stream",
     "text": [
      "/var/folders/n9/nhw5lfp14pz9_5f7p9093sd80000gn/T/ipykernel_70791/2773006371.py:9: FutureWarning: \n",
      "\n",
      "Passing `palette` without assigning `hue` is deprecated and will be removed in v0.14.0. Assign the `x` variable to `hue` and set `legend=False` for the same effect.\n",
      "\n",
      "  net_value_plot = sns.barplot(x='Name', y='Net Value', data=sugarshine_df_sorted, palette=\"viridis\")\n"
     ]
    },
    {
     "data": {
      "image/png": "[encoded data removed]",
      "text/plain": [
       "<Figure size 1200x800 with 1 Axes>"
      ]
     },
     "metadata": {},
     "output_type": "display_data"
    }
   ],
   "source": [
    "# Calculate Net Value\n",
    "sugarshine_df['Net Value'] = sugarshine_df['Total Decor Sell Value'] - sugarshine_df['Total Decor Buy Value']\n",
    "\n",
    "# Sort DataFrame by Net Value\n",
    "sugarshine_df_sorted = sugarshine_df.sort_values('Net Value', ascending=False)\n",
    "\n",
    "# Create a bar chart\n",
    "plt.figure(figsize=(12, 8))\n",
    "net_value_plot = sns.barplot(x='Name', y='Net Value', data=sugarshine_df_sorted, palette=\"viridis\")\n",
    "plt.title('Net Value of Home Decor for Sugarshine Villagers')\n",
    "plt.xlabel('Villager')\n",
    "plt.ylabel('Net Value')\n",
    "plt.xticks(rotation=45)\n",
    "\n",
    "\n",
    "plt.show()"
   ]
  }
 ],
 "metadata": {
  "kernelspec": {
   "display_name": "Python 3",
   "language": "python",
   "name": "python3"
  },
  "language_info": {
   "codemirror_mode": {
    "name": "ipython",
    "version": 3
   },
   "file_extension": ".py",
   "mimetype": "text/x-python",
   "name": "python",
   "nbconvert_exporter": "python",
   "pygments_lexer": "ipython3",
   "version": "3.11.5"
  }
 },
 "nbformat": 4,
 "nbformat_minor": 2
}
